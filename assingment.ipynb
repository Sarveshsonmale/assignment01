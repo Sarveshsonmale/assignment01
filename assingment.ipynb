{
 "cells": [
  {
   "cell_type": "markdown",
   "id": "6596d91b-0496-4d31-98c3-6516c80e49c1",
   "metadata": {},
   "source": [
    "### assingnment"
   ]
  },
  {
   "cell_type": "code",
   "execution_count": null,
   "id": "b08b40fc-9209-4f21-b7d4-5bc8a7076c36",
   "metadata": {},
   "outputs": [],
   "source": [
    "#q1\n",
    "days=int(input('Enter no of days'))\n",
    "year=days // 365\n",
    "week=days // 7\n",
    "print('year:>week:>days',year, week ,days)"
   ]
  },
  {
   "cell_type": "code",
   "execution_count": null,
   "id": "8815dbcb-6725-4bf7-92eb-1fe9b0454ca5",
   "metadata": {},
   "outputs": [],
   "source": [
    "#Q2\n",
    "salary=int(input('Enter the salary'))\n",
    "if salary<=10000:\n",
    "    hra=0.20*salary\n",
    "    da=0.80*salary\n",
    "    og=hra+da+salary\n",
    "\n",
    "elif salary<=20000:\n",
    "    hra=0.30*salary\n",
    "    da=0.90*salary\n",
    "    og=hra+da+salary\n",
    "\n",
    "else:\n",
    "    hra=0.35*salary\n",
    "    da=0.95*salary\n",
    "    og=hra+da+salary\n",
    "\n",
    "print(og)\n",
    "\n",
    "\n",
    "    \n",
    "    "
   ]
  },
  {
   "cell_type": "code",
   "execution_count": null,
   "id": "e87c5225-a6c2-4c2f-8077-758b3e74052f",
   "metadata": {},
   "outputs": [],
   "source": [
    "#Q4\n",
    "for i in range(1 ,6):\n",
    "    print('\\t')\n",
    "    for j in range(i):\n",
    "        print(i,end=' ')"
   ]
  },
  {
   "cell_type": "code",
   "execution_count": null,
   "id": "99d1ccb4-733f-4946-8b25-64d82be27601",
   "metadata": {},
   "outputs": [],
   "source": []
  },
  {
   "cell_type": "code",
   "execution_count": null,
   "id": "8e3b2ad1-c5e3-43e7-a882-25f09c129c45",
   "metadata": {},
   "outputs": [],
   "source": [
    "#Q3\n",
    "units=float(input('Enter num of units'))\n",
    "if units <= 50:\n",
    "        bill = units * 0.50\n",
    "\n",
    "elif units<=150:\n",
    "        bill = (50 * 0.50) + ((units - 50) * 0.75)\n",
    "\n",
    "elif units<=250:\n",
    "        bill = (50 * 0.50) + (100 * 0.75) + ((units - 150) * 1.25)\n",
    "\n",
    "else:\n",
    "        bill = (50 * 0.50) + (100 * 0.75) + (100 * 1.25) + ((units - 250) * 1.50)\n",
    "\n",
    "surcharge=bill*0.17\n",
    "total_bill=bill+surcharge\n",
    "print(total_bill)\n"
   ]
  },
  {
   "cell_type": "code",
   "execution_count": null,
   "id": "70f4fd8e-5853-4ee6-84de-2e0e2c162389",
   "metadata": {},
   "outputs": [],
   "source": [
    "#Q10 silver gold\n",
    "metals=['silver','gold']\n",
    "new=metals\n",
    "new.append('platinum')\n",
    "new.append('bronze')\n",
    "new.append('iron')\n",
    "print(new)"
   ]
  },
  {
   "cell_type": "raw",
   "id": "26cb3e3a-e5e6-4c39-85e9-56a8669ec717",
   "metadata": {},
   "source": []
  },
  {
   "cell_type": "code",
   "execution_count": null,
   "id": "7782252c-6375-4434-a0a4-d99d00a8dd84",
   "metadata": {},
   "outputs": [],
   "source": [
    "#Q9\n",
    "x=[12,45,78,63,90,5]\n",
    "c=sorted(x)\n",
    "print('second largest',c[-2])"
   ]
  },
  {
   "cell_type": "code",
   "execution_count": null,
   "id": "15e21282-8576-4838-860c-6e30e1e612fe",
   "metadata": {},
   "outputs": [],
   "source": [
    "# Create the dictionary\n",
    "elements = {'a': 'apple', 'b': 'ball', 'c': 'cat', 'd': 'doll', 'k': 'king'}\n",
    "\n",
    "# 1. Access the data at key ‘k’\n",
    "print(\"Data at key 'k':\", elements['k'])\n",
    "\n",
    "# 2. Add a new value ‘z’: ‘zebra’\n",
    "elements['z'] = 'zebra'\n",
    "\n",
    "# 3. Replace the contents of ‘d’ as ‘dog’\n",
    "elements['d'] = 'dog'\n",
    "\n",
    "# 4. Print all the values from this dictionary\n",
    "print(\"All values in the dictionary:\")\n",
    "for value in elements.values():\n",
    "    print(value)\n",
    "\n",
    "# 5. Find the length of this dictionary\n",
    "print(\"Length of the dictionary:\", len(elements))"
   ]
  },
  {
   "cell_type": "code",
   "execution_count": 1,
   "id": "3b85226f-dda7-4504-a47e-7c72d8ce162a",
   "metadata": {},
   "outputs": [
    {
     "name": "stdin",
     "output_type": "stream",
     "text": [
      "Enter a number:  123\n"
     ]
    },
    {
     "name": "stdout",
     "output_type": "stream",
     "text": [
      "The product of the digits is: 6\n"
     ]
    }
   ],
   "source": [
    "def product_of_digits(n):\n",
    "    product = 1\n",
    "    while n > 0:\n",
    "        digit = n % 10\n",
    "        product *= digit\n",
    "        n //= 10\n",
    "    return product\n",
    "n = int(input(\"Enter a number: \"))\n",
    "result = product_of_digits(n)\n",
    "print(\"The product of the digits is:\", result)"
   ]
  },
  {
   "cell_type": "code",
   "execution_count": null,
   "id": "397b4e35-e2ef-4add-b015-1b3a6c449fbe",
   "metadata": {},
   "outputs": [],
   "source": []
  },
  {
   "cell_type": "code",
   "execution_count": 3,
   "id": "c3456bb8-4850-4898-9a53-ac957df982d1",
   "metadata": {},
   "outputs": [
    {
     "name": "stdout",
     "output_type": "stream",
     "text": [
      "Sorted tuple: [9.8, 12.3, 23.5, 45.6, 67.2]\n",
      "Is 50 present in the tuple? False\n",
      "Tuple converted to set: {67.2, 9.8, 12.3, 45.6, 23.5}\n"
     ]
    }
   ],
   "source": [
    "\n",
    "float_tuple = (23.5, 12.3, 45.6, 9.8, 67.2)\n",
    "\n",
    "\n",
    "sorted_tuple = sorted(float_tuple)\n",
    "print(\"Sorted tuple:\", sorted_tuple)\n",
    "\n",
    "\n",
    "is_fifty_present = 50 in float_tuple\n",
    "print(\"Is 50 present in the tuple?\", is_fifty_present)\n",
    "\n",
    "\n",
    "float_set = set(float_tuple)\n",
    "print(\"Tuple converted to set:\", float_set)"
   ]
  },
  {
   "cell_type": "code",
   "execution_count": 5,
   "id": "9a13e349-1091-4b50-a55e-119764c590af",
   "metadata": {},
   "outputs": [
    {
     "name": "stdout",
     "output_type": "stream",
     "text": [
      "String values: ['Hello', 'World']\n",
      "Strings in upper case: ['HELLO', 'WORLD']\n",
      "Sum of integer values: 124\n",
      "Is 56 present in the list? False\n",
      "List in reverse order: ['World', 23.45, 'Hello', 12, 67, 45]\n",
      "List after deleting 'Hello': [45, 67, 12, 23.45, 'World']\n",
      "List after inserting 36 at 5th position: [45, 67, 12, 23.45, 36, 'World']\n",
      "Total number of elements in the list now: 6\n",
      "Values from 2nd to 5th index: [12, 23.45, 36, 'World']\n",
      "List after appending [34, 'Pune']: [45, 67, 12, 23.45, 36, 'World', 34, 'Pune']\n",
      "List after deleting the last element: [45, 67, 12, 23.45, 36, 'World', 34]\n"
     ]
    }
   ],
   "source": [
    "# Create the initial list\n",
    "x = [45, 67, 12, 'Hello', 23.45, 'World']\n",
    "\n",
    "# 1. Extract only string values from this list\n",
    "strings = [item for item in x if isinstance(item, str)]\n",
    "print(\"String values:\", strings)\n",
    "\n",
    "# 2. Create a new list with strings in upper case\n",
    "upper_strings = [item.upper() for item in strings]\n",
    "print(\"Strings in upper case:\", upper_strings)\n",
    "\n",
    "# 3. Find the addition of integer values\n",
    "int_sum = sum(item for item in x if isinstance(item, int))\n",
    "print(\"Sum of integer values:\", int_sum)\n",
    "\n",
    "# 4. Check that the value 56 is present in it or not\n",
    "is_56_present = 56 in x\n",
    "print(\"Is 56 present in the list?\", is_56_present)\n",
    "\n",
    "# 5. Print the list in reverse order\n",
    "reversed_list = x[::-1]\n",
    "print(\"List in reverse order:\", reversed_list)\n",
    "\n",
    "# 6. Delete the string ‘Hello’ from it\n",
    "if 'Hello' in x:\n",
    "    x.remove('Hello')\n",
    "print(\"List after deleting 'Hello':\", x)\n",
    "\n",
    "# 7. Insert a new value of 36 at 5th position in list\n",
    "x.insert(4, 36)\n",
    "print(\"List after inserting 36 at 5th position:\", x)\n",
    "\n",
    "# 8. Count total number of elements in list now\n",
    "list_length = len(x)\n",
    "print(\"Total number of elements in the list now:\", list_length)\n",
    "\n",
    "# 9. Extract the values from 2nd index to 5th index\n",
    "sublist = x[2:6]\n",
    "print(\"Values from 2nd to 5th index:\", sublist)\n",
    "\n",
    "# 10. Append [34, ‘Pune’] to this list\n",
    "x.extend([34, 'Pune'])\n",
    "print(\"List after appending [34, 'Pune']:\", x)\n",
    "\n",
    "# 11. Delete the last element from list\n",
    "x.pop()\n",
    "print(\"List after deleting the last element:\", x)\n"
   ]
  },
  {
   "cell_type": "code",
   "execution_count": null,
   "id": "2c9c9f86-b19e-4b2e-81bb-0e2db57cc1a2",
   "metadata": {},
   "outputs": [],
   "source": []
  }
 ],
 "metadata": {
  "kernelspec": {
   "display_name": "Python 3 (ipykernel)",
   "language": "python",
   "name": "python3"
  },
  "language_info": {
   "codemirror_mode": {
    "name": "ipython",
    "version": 3
   },
   "file_extension": ".py",
   "mimetype": "text/x-python",
   "name": "python",
   "nbconvert_exporter": "python",
   "pygments_lexer": "ipython3",
   "version": "3.11.7"
  }
 },
 "nbformat": 4,
 "nbformat_minor": 5
}
